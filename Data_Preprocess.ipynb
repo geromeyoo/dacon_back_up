{
 "cells": [
  {
   "cell_type": "code",
   "execution_count": 1,
   "metadata": {},
   "outputs": [],
   "source": [
    "import pandas as pd\n",
    "import numpy as np\n",
    "from sklearn.preprocessing import LabelEncoder"
   ]
  },
  {
   "cell_type": "code",
   "execution_count": null,
   "metadata": {},
   "outputs": [],
   "source": [
    "data = pd.read_csv('C:/Users/SJ user/Desktop/jeju_data_ver1/201901-202003.csv')"
   ]
  },
  {
   "cell_type": "code",
   "execution_count": null,
   "metadata": {},
   "outputs": [],
   "source": [
    "data.head(10)"
   ]
  },
  {
   "cell_type": "code",
   "execution_count": null,
   "metadata": {},
   "outputs": [],
   "source": [
    "'''\n",
    "월별 전체 총합 데이터 (Top Level)\n",
    "'''\n",
    "\n",
    "data_sum = data.groupby('REG_YYMM')['AMT'].sum().reset_index()\n",
    "data_sum"
   ]
  },
  {
   "cell_type": "code",
   "execution_count": null,
   "metadata": {},
   "outputs": [],
   "source": [
    "'''\n",
    "범주별 데이터 (Bottom Level)\n",
    "'''\n",
    "\n",
    "data_df = data.groupby(['REG_YYMM', 'CARD_SIDO_NM', 'STD_CLSS_NM'])['AMT'].sum().reset_index()\n",
    "data_df"
   ]
  },
  {
   "cell_type": "code",
   "execution_count": null,
   "metadata": {},
   "outputs": [],
   "source": [
    "data_temp = data_df.copy()"
   ]
  },
  {
   "cell_type": "code",
   "execution_count": null,
   "metadata": {},
   "outputs": [],
   "source": [
    "std = data_df['STD_CLSS_NM'].unique()\n",
    "reg = data_df['REG_YYMM'].unique()\n",
    "card = data_df['CARD_SIDO_NM'].unique()\n",
    "\n",
    "for s in std:\n",
    "    for r in reg:\n",
    "        for c in card:\n",
    "            data_temp = data_temp.append([{'REG_YYMM': r, 'CARD_SIDO_NM': c, 'STD_CLSS_NM': s, 'AMT': 0}], ignore_index=True)\n",
    "data_temp"
   ]
  },
  {
   "cell_type": "code",
   "execution_count": null,
   "metadata": {},
   "outputs": [],
   "source": [
    "data_df = data_temp.groupby(['REG_YYMM', 'CARD_SIDO_NM', 'STD_CLSS_NM'])['AMT'].sum().reset_index()\n",
    "data_df"
   ]
  },
  {
   "cell_type": "code",
   "execution_count": null,
   "metadata": {},
   "outputs": [],
   "source": [
    "'''\n",
    "Final Data\n",
    "'''\n",
    "\n",
    "data_temp = data_df.copy()\n",
    "\n",
    "data_temp['REG_YYMM'] = data_temp['REG_YYMM'].astype(np.str)\n",
    "\n",
    "y = pd.Series([e[:4] for e in data_temp['REG_YYMM']])\n",
    "m = pd.Series([e[4:6] for e in data_temp['REG_YYMM']])\n",
    "data_temp.insert(1, 'Year', y)\n",
    "data_temp.insert(2, 'Month', m)\n",
    "data_temp.drop('REG_YYMM', axis=1, inplace=True)\n",
    "\n",
    "data_temp['Year'] = [0 if i == '2019' else 1 for i in data_temp['Year']]\n",
    "lenc = LabelEncoder()\n",
    "data_temp['Month'] = lenc.fit_transform(data_temp['Month'])\n",
    "\n",
    "temp = pd.get_dummies(data_temp['CARD_SIDO_NM'])\n",
    "data_temp = pd.concat([data_temp, temp], axis=1)\n",
    "\n",
    "temp = pd.get_dummies(data_temp['STD_CLSS_NM'])\n",
    "data_temp = pd.concat([data_temp, temp], axis=1)\n",
    "\n",
    "data_temp.insert(63, 'AMT2', data_temp['AMT'])\n",
    "data_temp.drop(['AMT', 'CARD_SIDO_NM', 'STD_CLSS_NM'], axis=1, inplace=True)\n",
    "data_temp.rename(columns={'AMT2': 'AMT'}, inplace=True)\n",
    "data_final = data_temp\n",
    "data_final"
   ]
  },
  {
   "cell_type": "code",
   "execution_count": null,
   "metadata": {},
   "outputs": [],
   "source": [
    "'''\n",
    "데이터 csv로 저장 방법:\n",
    "저장하고 싶은 dataframe명.to_csv('원하는 경로', index=False, encoding='UTF-8-dig')\n",
    "'''\n",
    "\n",
    "# 예\n",
    "data_final.to_csv('C:/Users/SJ user/Desktop/data_final.csv', index=False, encoding='UTF-8-sig')"
   ]
  },
  {
   "cell_type": "code",
   "execution_count": null,
   "metadata": {},
   "outputs": [],
   "source": [
    "std.shape[0] * reg.shape[0] * card.shape[0]"
   ]
  }
 ],
 "metadata": {
  "kernelspec": {
   "display_name": "Python 3",
   "language": "python",
   "name": "python3"
  },
  "language_info": {
   "codemirror_mode": {
    "name": "ipython",
    "version": 3
   },
   "file_extension": ".py",
   "mimetype": "text/x-python",
   "name": "python",
   "nbconvert_exporter": "python",
   "pygments_lexer": "ipython3",
   "version": "3.7.6"
  }
 },
 "nbformat": 4,
 "nbformat_minor": 4
}
